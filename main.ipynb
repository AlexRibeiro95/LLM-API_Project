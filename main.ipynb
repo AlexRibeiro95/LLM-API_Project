{
 "cells": [
  {
   "cell_type": "code",
   "execution_count": 17,
   "metadata": {},
   "outputs": [],
   "source": [
    "# Importing the OpenAI and relevant libraries\n",
    "\n",
    "import openai\n",
    "from dotenv import load_dotenv\n",
    "import os\n",
    "import time\n",
    "from openai.error import RateLimitError\n",
    "\n",
    "# Load environment variables from .env file\n",
    "\n",
    "load_dotenv()\n",
    "\n",
    "# Set the API key from the environment\n",
    "\n",
    "openai.api_key = os.getenv(\"OPENAI_API_KEY\")\n"
   ]
  },
  {
   "cell_type": "code",
   "execution_count": 18,
   "metadata": {},
   "outputs": [
    {
     "name": "stdout",
     "output_type": "stream",
     "text": [
      "Product Recommendations: Based on your preference for playing FPS games, here are some popular titles that you might enjoy:\n",
      "\n",
      "1. Call of Duty: Modern Warfare - This game offers a realistic and immersive FPS experience with a variety of modes such as multiplayer, campaign, and co-op.\n",
      "\n",
      "2. Battlefield V - Set in World War II, this game features large-scale battles with a focus on team play and strategic gameplay.\n",
      "\n",
      "3. Rainbow Six Siege - This tactical shooter emphasizes teamwork and strategy, offering a unique and challenging FPS experience\n"
     ]
    }
   ],
   "source": [
    "# Function to collect user input\n",
    "\n",
    "def collect_user_input():\n",
    "    \"\"\"\n",
    "    Collects user preferences by prompting the user for their interests, activities, and needs.\n",
    "    Returns a formatted string summarizing the user's preferences.\n",
    "    \"\"\"\n",
    "    activity = input(\"What type of activities do you enjoy? (e.g., outdoor activities, cooking, reading): \")\n",
    "    interests = input(\"What are your specific interests? (e.g., hiking, technology, mystery novels): \")\n",
    "    needs = input(\"What specific item are you looking for? (e.g., backpack, kitchen gadget, book): \")\n",
    "\n",
    "    user_preferences = f\"I enjoy {activity}, specifically {interests}, and I'm looking for a new {needs}.\"\n",
    "    return user_preferences\n",
    "\n",
    "# Function to generate product recommendations based on user preferences\n",
    "\n",
    "def generate_product_recommendations(user_preferences, temperature=0.7, max_tokens=100):\n",
    "    \"\"\"\n",
    "    Generates product recommendations using OpenAI's GPT model based on the user's preferences.\n",
    "    \n",
    "    Parameters:\n",
    "    - user_preferences (str): A string summarizing the user's preferences.\n",
    "    - temperature (float): Controls the creativity of the output (0.0 to 1.0).\n",
    "    - max_tokens (int): The maximum number of tokens in the generated response.\n",
    "    \n",
    "    Returns:\n",
    "    - str: A string containing the product recommendations.\n",
    "    \"\"\"\n",
    "    prompt = f\"Based on the following preferences, recommend some products: {user_preferences}.\"\n",
    "    \n",
    "    for attempt in range(5):  # Retry up to 5 times in case of rate limit errors\n",
    "        try:\n",
    "            response = openai.ChatCompletion.create(\n",
    "                model=\"gpt-3.5-turbo\",\n",
    "                messages=[\n",
    "                    {\"role\": \"system\", \"content\": \"You are a helpful assistant.\"},\n",
    "                    {\"role\": \"user\", \"content\": prompt}\n",
    "                ],\n",
    "                temperature=temperature,\n",
    "                max_tokens=max_tokens\n",
    "            )\n",
    "            recommendations = response['choices'][0]['message']['content'].strip()\n",
    "            return recommendations\n",
    "        \n",
    "        except RateLimitError:\n",
    "            print(\"Rate limit exceeded, retrying...\")\n",
    "            time.sleep(2 ** attempt)  # Exponential backoff: wait 2^attempt seconds before retrying\n",
    "    \n",
    "    return \"Failed to generate recommendations due to rate limit.\"\n",
    "\n",
    "# Main function to run the tool\n",
    "\n",
    "def main():\n",
    "    \"\"\"\n",
    "    Main function to run the product recommendation tool.\n",
    "    Collects user input, generates recommendations, and displays them.\n",
    "    \"\"\"\n",
    "    user_preferences = collect_user_input()  # Collect user input\n",
    "    recommendations = generate_product_recommendations(user_preferences)  # Generate recommendations\n",
    "    print(f\"Product Recommendations: {recommendations}\")\n",
    "\n",
    "# Run the main function\n",
    "\n",
    "if __name__ == \"__main__\":\n",
    "    main()"
   ]
  }
 ],
 "metadata": {
  "kernelspec": {
   "display_name": "env_test",
   "language": "python",
   "name": "python3"
  },
  "language_info": {
   "codemirror_mode": {
    "name": "ipython",
    "version": 3
   },
   "file_extension": ".py",
   "mimetype": "text/x-python",
   "name": "python",
   "nbconvert_exporter": "python",
   "pygments_lexer": "ipython3",
   "version": "3.11.9"
  }
 },
 "nbformat": 4,
 "nbformat_minor": 2
}
